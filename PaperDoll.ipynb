{
 "cells": [
  {
   "cell_type": "code",
   "execution_count": 1,
   "metadata": {},
   "outputs": [],
   "source": [
    "%load_ext autoreload\n",
    "%autoreload 2\n",
    "from IPython.core.interactiveshell import InteractiveShell\n",
    "InteractiveShell.ast_node_interactivity = \"all\""
   ]
  },
  {
   "cell_type": "code",
   "execution_count": 161,
   "metadata": {},
   "outputs": [],
   "source": [
    "import os\n",
    "\n",
    "from scipy.io import loadmat\n",
    "import pandas as pd"
   ]
  },
  {
   "cell_type": "markdown",
   "metadata": {},
   "source": [
    "# mat2json PaperDoll"
   ]
  },
  {
   "cell_type": "code",
   "execution_count": 162,
   "metadata": {},
   "outputs": [],
   "source": [
    "mat_file = './data/paperdoll_dataset.mat'\n",
    "#f = h5py.File(mat_file, 'r')\n",
    "f = loadmat(mat_file)\n",
    "labels = f['labels'][0]\n",
    "samples = f['samples'][0]"
   ]
  },
  {
   "cell_type": "code",
   "execution_count": 165,
   "metadata": {},
   "outputs": [
    {
     "data": {
      "text/html": [
       "<div>\n",
       "<style scoped>\n",
       "    .dataframe tbody tr th:only-of-type {\n",
       "        vertical-align: middle;\n",
       "    }\n",
       "\n",
       "    .dataframe tbody tr th {\n",
       "        vertical-align: top;\n",
       "    }\n",
       "\n",
       "    .dataframe thead th {\n",
       "        text-align: right;\n",
       "    }\n",
       "</style>\n",
       "<table border=\"1\" class=\"dataframe\">\n",
       "  <thead>\n",
       "    <tr style=\"text-align: right;\">\n",
       "      <th></th>\n",
       "      <th>category_id</th>\n",
       "      <th>category</th>\n",
       "    </tr>\n",
       "  </thead>\n",
       "  <tbody>\n",
       "    <tr>\n",
       "      <th>0</th>\n",
       "      <td>1</td>\n",
       "      <td>accessories</td>\n",
       "    </tr>\n",
       "    <tr>\n",
       "      <th>1</th>\n",
       "      <td>2</td>\n",
       "      <td>bag</td>\n",
       "    </tr>\n",
       "    <tr>\n",
       "      <th>2</th>\n",
       "      <td>3</td>\n",
       "      <td>belt</td>\n",
       "    </tr>\n",
       "    <tr>\n",
       "      <th>3</th>\n",
       "      <td>4</td>\n",
       "      <td>blazer</td>\n",
       "    </tr>\n",
       "    <tr>\n",
       "      <th>4</th>\n",
       "      <td>5</td>\n",
       "      <td>blouse</td>\n",
       "    </tr>\n",
       "    <tr>\n",
       "      <th>5</th>\n",
       "      <td>6</td>\n",
       "      <td>bodysuit</td>\n",
       "    </tr>\n",
       "    <tr>\n",
       "      <th>6</th>\n",
       "      <td>7</td>\n",
       "      <td>boots</td>\n",
       "    </tr>\n",
       "    <tr>\n",
       "      <th>7</th>\n",
       "      <td>8</td>\n",
       "      <td>bra</td>\n",
       "    </tr>\n",
       "    <tr>\n",
       "      <th>8</th>\n",
       "      <td>9</td>\n",
       "      <td>bracelet</td>\n",
       "    </tr>\n",
       "    <tr>\n",
       "      <th>9</th>\n",
       "      <td>10</td>\n",
       "      <td>cape</td>\n",
       "    </tr>\n",
       "    <tr>\n",
       "      <th>10</th>\n",
       "      <td>11</td>\n",
       "      <td>cardigan</td>\n",
       "    </tr>\n",
       "    <tr>\n",
       "      <th>11</th>\n",
       "      <td>12</td>\n",
       "      <td>clogs</td>\n",
       "    </tr>\n",
       "    <tr>\n",
       "      <th>12</th>\n",
       "      <td>13</td>\n",
       "      <td>coat</td>\n",
       "    </tr>\n",
       "    <tr>\n",
       "      <th>13</th>\n",
       "      <td>14</td>\n",
       "      <td>dress</td>\n",
       "    </tr>\n",
       "    <tr>\n",
       "      <th>14</th>\n",
       "      <td>15</td>\n",
       "      <td>earrings</td>\n",
       "    </tr>\n",
       "    <tr>\n",
       "      <th>15</th>\n",
       "      <td>16</td>\n",
       "      <td>flats</td>\n",
       "    </tr>\n",
       "    <tr>\n",
       "      <th>16</th>\n",
       "      <td>17</td>\n",
       "      <td>glasses</td>\n",
       "    </tr>\n",
       "    <tr>\n",
       "      <th>17</th>\n",
       "      <td>18</td>\n",
       "      <td>gloves</td>\n",
       "    </tr>\n",
       "    <tr>\n",
       "      <th>18</th>\n",
       "      <td>19</td>\n",
       "      <td>hat</td>\n",
       "    </tr>\n",
       "    <tr>\n",
       "      <th>19</th>\n",
       "      <td>20</td>\n",
       "      <td>heels</td>\n",
       "    </tr>\n",
       "    <tr>\n",
       "      <th>20</th>\n",
       "      <td>21</td>\n",
       "      <td>intimate</td>\n",
       "    </tr>\n",
       "    <tr>\n",
       "      <th>21</th>\n",
       "      <td>22</td>\n",
       "      <td>jacket</td>\n",
       "    </tr>\n",
       "    <tr>\n",
       "      <th>22</th>\n",
       "      <td>23</td>\n",
       "      <td>jeans</td>\n",
       "    </tr>\n",
       "    <tr>\n",
       "      <th>23</th>\n",
       "      <td>24</td>\n",
       "      <td>jumper</td>\n",
       "    </tr>\n",
       "    <tr>\n",
       "      <th>24</th>\n",
       "      <td>25</td>\n",
       "      <td>leggings</td>\n",
       "    </tr>\n",
       "    <tr>\n",
       "      <th>25</th>\n",
       "      <td>26</td>\n",
       "      <td>loafers</td>\n",
       "    </tr>\n",
       "    <tr>\n",
       "      <th>26</th>\n",
       "      <td>27</td>\n",
       "      <td>necklace</td>\n",
       "    </tr>\n",
       "    <tr>\n",
       "      <th>27</th>\n",
       "      <td>28</td>\n",
       "      <td>pants</td>\n",
       "    </tr>\n",
       "    <tr>\n",
       "      <th>28</th>\n",
       "      <td>29</td>\n",
       "      <td>pumps</td>\n",
       "    </tr>\n",
       "    <tr>\n",
       "      <th>29</th>\n",
       "      <td>30</td>\n",
       "      <td>purse</td>\n",
       "    </tr>\n",
       "    <tr>\n",
       "      <th>30</th>\n",
       "      <td>31</td>\n",
       "      <td>ring</td>\n",
       "    </tr>\n",
       "    <tr>\n",
       "      <th>31</th>\n",
       "      <td>32</td>\n",
       "      <td>romper</td>\n",
       "    </tr>\n",
       "    <tr>\n",
       "      <th>32</th>\n",
       "      <td>33</td>\n",
       "      <td>sandals</td>\n",
       "    </tr>\n",
       "    <tr>\n",
       "      <th>33</th>\n",
       "      <td>34</td>\n",
       "      <td>scarf</td>\n",
       "    </tr>\n",
       "    <tr>\n",
       "      <th>34</th>\n",
       "      <td>35</td>\n",
       "      <td>shirt</td>\n",
       "    </tr>\n",
       "    <tr>\n",
       "      <th>35</th>\n",
       "      <td>36</td>\n",
       "      <td>shoes</td>\n",
       "    </tr>\n",
       "    <tr>\n",
       "      <th>36</th>\n",
       "      <td>37</td>\n",
       "      <td>shorts</td>\n",
       "    </tr>\n",
       "    <tr>\n",
       "      <th>37</th>\n",
       "      <td>38</td>\n",
       "      <td>skirt</td>\n",
       "    </tr>\n",
       "    <tr>\n",
       "      <th>38</th>\n",
       "      <td>39</td>\n",
       "      <td>sneakers</td>\n",
       "    </tr>\n",
       "    <tr>\n",
       "      <th>39</th>\n",
       "      <td>40</td>\n",
       "      <td>socks</td>\n",
       "    </tr>\n",
       "    <tr>\n",
       "      <th>40</th>\n",
       "      <td>41</td>\n",
       "      <td>stockings</td>\n",
       "    </tr>\n",
       "    <tr>\n",
       "      <th>41</th>\n",
       "      <td>42</td>\n",
       "      <td>suit</td>\n",
       "    </tr>\n",
       "    <tr>\n",
       "      <th>42</th>\n",
       "      <td>43</td>\n",
       "      <td>sunglasses</td>\n",
       "    </tr>\n",
       "    <tr>\n",
       "      <th>43</th>\n",
       "      <td>44</td>\n",
       "      <td>sweater</td>\n",
       "    </tr>\n",
       "    <tr>\n",
       "      <th>44</th>\n",
       "      <td>45</td>\n",
       "      <td>sweatshirt</td>\n",
       "    </tr>\n",
       "    <tr>\n",
       "      <th>45</th>\n",
       "      <td>46</td>\n",
       "      <td>t-shirt</td>\n",
       "    </tr>\n",
       "    <tr>\n",
       "      <th>46</th>\n",
       "      <td>47</td>\n",
       "      <td>tie</td>\n",
       "    </tr>\n",
       "    <tr>\n",
       "      <th>47</th>\n",
       "      <td>48</td>\n",
       "      <td>tights</td>\n",
       "    </tr>\n",
       "    <tr>\n",
       "      <th>48</th>\n",
       "      <td>49</td>\n",
       "      <td>top</td>\n",
       "    </tr>\n",
       "    <tr>\n",
       "      <th>49</th>\n",
       "      <td>50</td>\n",
       "      <td>vest</td>\n",
       "    </tr>\n",
       "    <tr>\n",
       "      <th>50</th>\n",
       "      <td>51</td>\n",
       "      <td>wallet</td>\n",
       "    </tr>\n",
       "    <tr>\n",
       "      <th>51</th>\n",
       "      <td>52</td>\n",
       "      <td>watch</td>\n",
       "    </tr>\n",
       "    <tr>\n",
       "      <th>52</th>\n",
       "      <td>53</td>\n",
       "      <td>wedges</td>\n",
       "    </tr>\n",
       "  </tbody>\n",
       "</table>\n",
       "</div>"
      ],
      "text/plain": [
       "    category_id     category\n",
       "0             1  accessories\n",
       "1             2          bag\n",
       "2             3         belt\n",
       "3             4       blazer\n",
       "4             5       blouse\n",
       "5             6     bodysuit\n",
       "6             7        boots\n",
       "7             8          bra\n",
       "8             9     bracelet\n",
       "9            10         cape\n",
       "10           11     cardigan\n",
       "11           12        clogs\n",
       "12           13         coat\n",
       "13           14        dress\n",
       "14           15     earrings\n",
       "15           16        flats\n",
       "16           17      glasses\n",
       "17           18       gloves\n",
       "18           19          hat\n",
       "19           20        heels\n",
       "20           21     intimate\n",
       "21           22       jacket\n",
       "22           23        jeans\n",
       "23           24       jumper\n",
       "24           25     leggings\n",
       "25           26      loafers\n",
       "26           27     necklace\n",
       "27           28        pants\n",
       "28           29        pumps\n",
       "29           30        purse\n",
       "30           31         ring\n",
       "31           32       romper\n",
       "32           33      sandals\n",
       "33           34        scarf\n",
       "34           35        shirt\n",
       "35           36        shoes\n",
       "36           37       shorts\n",
       "37           38        skirt\n",
       "38           39     sneakers\n",
       "39           40        socks\n",
       "40           41    stockings\n",
       "41           42         suit\n",
       "42           43   sunglasses\n",
       "43           44      sweater\n",
       "44           45   sweatshirt\n",
       "45           46      t-shirt\n",
       "46           47          tie\n",
       "47           48       tights\n",
       "48           49          top\n",
       "49           50         vest\n",
       "50           51       wallet\n",
       "51           52        watch\n",
       "52           53       wedges"
      ]
     },
     "execution_count": 165,
     "metadata": {},
     "output_type": "execute_result"
    }
   ],
   "source": [
    "sr_ctg = pd.Series([label[0] for label in labels])\n",
    "sr_ctg.index = sr_ctg.index+1\n",
    "df_ctg = sr_ctg.reset_index()\n",
    "df_ctg.columns = ['category_id', 'category']\n",
    "df_ctg\n",
    "\n",
    "# save\n",
    "#out_file = './test_label/categories.tsv'\n",
    "#out_dir = os.path.dirname(out_file)\n",
    "#if not os.path.isdir(out_dir):\n",
    "#    os.makedirs(out_dir)\n",
    "#df_ctg.to_csv(out_file, index=False, sep='\\t')"
   ]
  },
  {
   "cell_type": "code",
   "execution_count": 151,
   "metadata": {},
   "outputs": [
    {
     "data": {
      "text/plain": [
       "4"
      ]
     },
     "execution_count": 151,
     "metadata": {},
     "output_type": "execute_result"
    }
   ],
   "source": [
    "sample = samples[0]\n",
    "len(sample)"
   ]
  },
  {
   "cell_type": "code",
   "execution_count": 167,
   "metadata": {},
   "outputs": [
    {
     "data": {
      "text/plain": [
       "10"
      ]
     },
     "execution_count": 167,
     "metadata": {},
     "output_type": "execute_result"
    },
    {
     "data": {
      "text/plain": [
       "'http://images1.chictopia.com/photos/homme/5747766283/5747766283_400.jpg'"
      ]
     },
     "execution_count": 167,
     "metadata": {},
     "output_type": "execute_result"
    },
    {
     "data": {
      "image/jpeg": "[encoded data removed]",
      "text/plain": [
       "<IPython.core.display.Image object>"
      ]
     },
     "execution_count": 167,
     "metadata": {},
     "output_type": "execute_result"
    },
    {
     "data": {
      "text/plain": [
       "'http://www.chictopia.com/photo/show/16781'"
      ]
     },
     "execution_count": 167,
     "metadata": {},
     "output_type": "execute_result"
    },
    {
     "data": {
      "text/plain": [
       "['jacket', 'jeans', 'shirt', 'sunglasses']"
      ]
     },
     "execution_count": 167,
     "metadata": {},
     "output_type": "execute_result"
    }
   ],
   "source": [
    "# id\n",
    "sample[0][0, 0]\n",
    "\n",
    "# url\n",
    "from IPython.display import Image\n",
    "sample[1][0]\n",
    "Image(sample[1][0])\n",
    "\n",
    "# post_url\n",
    "sample[2][0]\n",
    "\n",
    "# tags\n",
    "ids = sample[3][0]\n",
    "sr_ctg[ids].tolist()"
   ]
  },
  {
   "cell_type": "code",
   "execution_count": 198,
   "metadata": {},
   "outputs": [
    {
     "name": "stderr",
     "output_type": "stream",
     "text": [
      "\n",
      "\n",
      "  0%|          | 0/10 [00:00<?, ?it/s]\u001b[A\u001b[A\n",
      "\n",
      "100%|██████████| 10/10 [00:00<00:00, 1240.55it/s]\u001b[A\u001b[A"
     ]
    }
   ],
   "source": [
    "from tqdm import tqdm\n",
    "\n",
    "d = [{\n",
    "    \"snap_id\": int(sample[0][0, 0]),\n",
    "    \"snap_url\": sample[1][0],\n",
    "    \"post_url\": sample[2][0],\n",
    "    \"items\": [\n",
    "        {\n",
    "            \"category_id\": int(tag_id),\n",
    "            \"category\":tag\n",
    "        } \n",
    "        for tag_id, tag\n",
    "        in list(zip(\n",
    "            sample[3][0].tolist(),\n",
    "            sr_ctg[sample[3][0]].tolist(),\n",
    "        ))\n",
    "    ]\n",
    "} for sample in tqdm(samples[:10])]"
   ]
  },
  {
   "cell_type": "code",
   "execution_count": 199,
   "metadata": {},
   "outputs": [
    {
     "data": {
      "text/html": [
       "<div>\n",
       "<style scoped>\n",
       "    .dataframe tbody tr th:only-of-type {\n",
       "        vertical-align: middle;\n",
       "    }\n",
       "\n",
       "    .dataframe tbody tr th {\n",
       "        vertical-align: top;\n",
       "    }\n",
       "\n",
       "    .dataframe thead th {\n",
       "        text-align: right;\n",
       "    }\n",
       "</style>\n",
       "<table border=\"1\" class=\"dataframe\">\n",
       "  <thead>\n",
       "    <tr style=\"text-align: right;\">\n",
       "      <th></th>\n",
       "      <th>items</th>\n",
       "      <th>post_url</th>\n",
       "      <th>snap_id</th>\n",
       "      <th>snap_url</th>\n",
       "    </tr>\n",
       "  </thead>\n",
       "  <tbody>\n",
       "    <tr>\n",
       "      <th>0</th>\n",
       "      <td>[{'category_id': 22, 'category': 'jacket'}, {'...</td>\n",
       "      <td>http://www.chictopia.com/photo/show/16781</td>\n",
       "      <td>10</td>\n",
       "      <td>http://images1.chictopia.com/photos/homme/5747...</td>\n",
       "    </tr>\n",
       "    <tr>\n",
       "      <th>1</th>\n",
       "      <td>[{'category_id': 22, 'category': 'jacket'}, {'...</td>\n",
       "      <td>http://www.chictopia.com/photo/show/9833</td>\n",
       "      <td>15</td>\n",
       "      <td>http://images2.chictopia.com/photos/homme/4228...</td>\n",
       "    </tr>\n",
       "    <tr>\n",
       "      <th>2</th>\n",
       "      <td>[{'category_id': 35, 'category': 'shirt'}]</td>\n",
       "      <td>http://www.chictopia.com/photo/show/7413</td>\n",
       "      <td>18</td>\n",
       "      <td>http://images3.chictopia.com/photos/homme/4923...</td>\n",
       "    </tr>\n",
       "    <tr>\n",
       "      <th>3</th>\n",
       "      <td>[{'category_id': 4, 'category': 'blazer'}, {'c...</td>\n",
       "      <td>http://www.chictopia.com/photo/show/1382</td>\n",
       "      <td>27</td>\n",
       "      <td>http://images0.chictopia.com/photos/homme/3485...</td>\n",
       "    </tr>\n",
       "    <tr>\n",
       "      <th>4</th>\n",
       "      <td>[{'category_id': 36, 'category': 'shoes'}, {'c...</td>\n",
       "      <td>http://www.chictopia.com/photo/show/2841</td>\n",
       "      <td>32</td>\n",
       "      <td>http://images1.chictopia.com/photos/thefashbot...</td>\n",
       "    </tr>\n",
       "    <tr>\n",
       "      <th>5</th>\n",
       "      <td>[{'category_id': 22, 'category': 'jacket'}, {'...</td>\n",
       "      <td>http://www.chictopia.com/photo/show/858</td>\n",
       "      <td>35</td>\n",
       "      <td>http://images2.chictopia.com/photos/homme/1025...</td>\n",
       "    </tr>\n",
       "    <tr>\n",
       "      <th>6</th>\n",
       "      <td>[{'category_id': 32, 'category': 'romper'}, {'...</td>\n",
       "      <td>http://www.chictopia.com/photo/show/3198</td>\n",
       "      <td>47</td>\n",
       "      <td>http://images3.chictopia.com/photos/thefashbot...</td>\n",
       "    </tr>\n",
       "    <tr>\n",
       "      <th>7</th>\n",
       "      <td>[{'category_id': 15, 'category': 'earrings'}, ...</td>\n",
       "      <td>http://www.chictopia.com/photo/show/3197</td>\n",
       "      <td>49</td>\n",
       "      <td>http://images0.chictopia.com/photos/thefashbot...</td>\n",
       "    </tr>\n",
       "    <tr>\n",
       "      <th>8</th>\n",
       "      <td>[{'category_id': 28, 'category': 'pants'}, {'c...</td>\n",
       "      <td>http://www.chictopia.com/photo/show/74064</td>\n",
       "      <td>50</td>\n",
       "      <td>http://images1.chictopia.com/photos/Luxenoir/7...</td>\n",
       "    </tr>\n",
       "    <tr>\n",
       "      <th>9</th>\n",
       "      <td>[{'category_id': 3, 'category': 'belt'}, {'cat...</td>\n",
       "      <td>http://www.chictopia.com/photo/show/2972</td>\n",
       "      <td>54</td>\n",
       "      <td>http://images2.chictopia.com/photos/thefashbot...</td>\n",
       "    </tr>\n",
       "  </tbody>\n",
       "</table>\n",
       "</div>"
      ],
      "text/plain": [
       "                                               items  \\\n",
       "0  [{'category_id': 22, 'category': 'jacket'}, {'...   \n",
       "1  [{'category_id': 22, 'category': 'jacket'}, {'...   \n",
       "2         [{'category_id': 35, 'category': 'shirt'}]   \n",
       "3  [{'category_id': 4, 'category': 'blazer'}, {'c...   \n",
       "4  [{'category_id': 36, 'category': 'shoes'}, {'c...   \n",
       "5  [{'category_id': 22, 'category': 'jacket'}, {'...   \n",
       "6  [{'category_id': 32, 'category': 'romper'}, {'...   \n",
       "7  [{'category_id': 15, 'category': 'earrings'}, ...   \n",
       "8  [{'category_id': 28, 'category': 'pants'}, {'c...   \n",
       "9  [{'category_id': 3, 'category': 'belt'}, {'cat...   \n",
       "\n",
       "                                    post_url  snap_id  \\\n",
       "0  http://www.chictopia.com/photo/show/16781       10   \n",
       "1   http://www.chictopia.com/photo/show/9833       15   \n",
       "2   http://www.chictopia.com/photo/show/7413       18   \n",
       "3   http://www.chictopia.com/photo/show/1382       27   \n",
       "4   http://www.chictopia.com/photo/show/2841       32   \n",
       "5    http://www.chictopia.com/photo/show/858       35   \n",
       "6   http://www.chictopia.com/photo/show/3198       47   \n",
       "7   http://www.chictopia.com/photo/show/3197       49   \n",
       "8  http://www.chictopia.com/photo/show/74064       50   \n",
       "9   http://www.chictopia.com/photo/show/2972       54   \n",
       "\n",
       "                                            snap_url  \n",
       "0  http://images1.chictopia.com/photos/homme/5747...  \n",
       "1  http://images2.chictopia.com/photos/homme/4228...  \n",
       "2  http://images3.chictopia.com/photos/homme/4923...  \n",
       "3  http://images0.chictopia.com/photos/homme/3485...  \n",
       "4  http://images1.chictopia.com/photos/thefashbot...  \n",
       "5  http://images2.chictopia.com/photos/homme/1025...  \n",
       "6  http://images3.chictopia.com/photos/thefashbot...  \n",
       "7  http://images0.chictopia.com/photos/thefashbot...  \n",
       "8  http://images1.chictopia.com/photos/Luxenoir/7...  \n",
       "9  http://images2.chictopia.com/photos/thefashbot...  "
      ]
     },
     "execution_count": 199,
     "metadata": {},
     "output_type": "execute_result"
    }
   ],
   "source": [
    "import json\n",
    "\n",
    "df = pd.DataFrame(d)\n",
    "df\n",
    "\n",
    "# save\n",
    "#out_file = './test_label/paperdoll.json'\n",
    "#out_dir = os.path.dirname(out_file)\n",
    "#if not os.path.isdir(out_dir):\n",
    "#    os.makedirs(out_dir)\n",
    "#with open(out_file, 'w') as f:\n",
    "#    json.dump(d,\n",
    "#              f, indent=4)"
   ]
  },
  {
   "cell_type": "markdown",
   "metadata": {},
   "source": [
    "# mat2json Fashionista  v0.2"
   ]
  },
  {
   "cell_type": "code",
   "execution_count": 19,
   "metadata": {},
   "outputs": [
    {
     "data": {
      "text/plain": [
       "['__header__',\n",
       " '__version__',\n",
       " '__globals__',\n",
       " 'test_index',\n",
       " 'truths',\n",
       " 'predictions']"
      ]
     },
     "execution_count": 19,
     "metadata": {},
     "output_type": "execute_result"
    }
   ],
   "source": [
    "mat_file = './data/fashionista_v0.2.mat'\n",
    "#f = h5py.File(mat_file, 'r')\n",
    "f = loadmat(mat_file)\n",
    "list(f.keys())"
   ]
  },
  {
   "cell_type": "code",
   "execution_count": 76,
   "metadata": {},
   "outputs": [],
   "source": [
    "test_index = f['test_index']\n",
    "truths = f['truths']\n",
    "predictions = f['predictions']"
   ]
  },
  {
   "cell_type": "code",
   "execution_count": 77,
   "metadata": {},
   "outputs": [
    {
     "data": {
      "text/plain": [
       "numpy.ndarray"
      ]
     },
     "execution_count": 77,
     "metadata": {},
     "output_type": "execute_result"
    },
    {
     "data": {
      "text/plain": [
       "(1, 229)"
      ]
     },
     "execution_count": 77,
     "metadata": {},
     "output_type": "execute_result"
    }
   ],
   "source": [
    "type(test_index)\n",
    "test_index.shape\n",
    "test_index = test_index[0]"
   ]
  },
  {
   "cell_type": "code",
   "execution_count": 78,
   "metadata": {},
   "outputs": [
    {
     "data": {
      "text/plain": [
       "numpy.uint16"
      ]
     },
     "execution_count": 78,
     "metadata": {},
     "output_type": "execute_result"
    },
    {
     "data": {
      "text/plain": [
       "array([  1,   4,   7,  10,  13,  16,  19,  22,  25,  28,  31,  34,  37,\n",
       "        40,  43,  46,  49,  52,  55,  58,  61,  64,  67,  70,  73,  76,\n",
       "        79,  82,  85,  88,  91,  94,  97, 100, 103, 106, 109, 112, 115,\n",
       "       118, 121, 124, 127, 130, 133, 136, 139, 142, 145, 148, 151, 154,\n",
       "       157, 160, 163, 166, 169, 172, 175, 178, 181, 184, 187, 190, 193,\n",
       "       196, 199, 202, 205, 208, 211, 214, 217, 220, 223, 226, 229, 232,\n",
       "       235, 238, 241, 244, 247, 250, 253, 256, 259, 262, 265, 268, 271,\n",
       "       274, 277, 280, 283, 286, 289, 292, 295, 298, 301, 304, 307, 310,\n",
       "       313, 316, 319, 322, 325, 328, 331, 334, 337, 340, 343, 346, 349,\n",
       "       352, 355, 358, 361, 364, 367, 370, 373, 376, 379, 382, 385, 388,\n",
       "       391, 394, 397, 400, 403, 406, 409, 412, 415, 418, 421, 424, 427,\n",
       "       430, 433, 436, 439, 442, 445, 448, 451, 454, 457, 460, 463, 466,\n",
       "       469, 472, 475, 478, 481, 484, 487, 490, 493, 496, 499, 502, 505,\n",
       "       508, 511, 514, 517, 520, 523, 526, 529, 532, 535, 538, 541, 544,\n",
       "       547, 550, 553, 556, 559, 562, 565, 568, 571, 574, 577, 580, 583,\n",
       "       586, 589, 592, 595, 598, 601, 604, 607, 610, 613, 616, 619, 622,\n",
       "       625, 628, 631, 634, 637, 640, 643, 646, 649, 652, 655, 658, 661,\n",
       "       664, 667, 670, 673, 676, 679, 682, 685], dtype=uint16)"
      ]
     },
     "execution_count": 78,
     "metadata": {},
     "output_type": "execute_result"
    }
   ],
   "source": [
    "type(test_index[0])\n",
    "test_index"
   ]
  },
  {
   "cell_type": "code",
   "execution_count": 80,
   "metadata": {},
   "outputs": [
    {
     "data": {
      "text/plain": [
       "numpy.ndarray"
      ]
     },
     "execution_count": 80,
     "metadata": {},
     "output_type": "execute_result"
    },
    {
     "data": {
      "text/plain": [
       "(1, 685)"
      ]
     },
     "execution_count": 80,
     "metadata": {},
     "output_type": "execute_result"
    }
   ],
   "source": [
    "truths = f['truths']\n",
    "type(truths)\n",
    "truths.shape\n",
    "truths = truths[0]"
   ]
  },
  {
   "cell_type": "code",
   "execution_count": 81,
   "metadata": {},
   "outputs": [
    {
     "data": {
      "text/plain": [
       "numpy.void"
      ]
     },
     "execution_count": 81,
     "metadata": {},
     "output_type": "execute_result"
    },
    {
     "data": {
      "text/plain": [
       "6"
      ]
     },
     "execution_count": 81,
     "metadata": {},
     "output_type": "execute_result"
    },
    {
     "data": {
      "text/plain": [
       "array([1], dtype=uint8)"
      ]
     },
     "execution_count": 81,
     "metadata": {},
     "output_type": "execute_result"
    }
   ],
   "source": [
    "type(truths[0])\n",
    "len(truths[0])\n",
    "truth = truths[0]\n",
    "\n",
    "# index\n",
    "truth[0][0]"
   ]
  },
  {
   "cell_type": "code",
   "execution_count": 82,
   "metadata": {},
   "outputs": [
    {
     "data": {
      "text/plain": [
       "'http://assets0.chictopia.com/photos/thehautepursuit/7163932753/blue-diy-miu-miu-tights-blue-levis-shorts-blue-forever21-blazer-white-alex_400.jpg'"
      ]
     },
     "execution_count": 82,
     "metadata": {},
     "output_type": "execute_result"
    }
   ],
   "source": [
    "# url\n",
    "truth[1][0]"
   ]
  },
  {
   "cell_type": "code",
   "execution_count": 85,
   "metadata": {},
   "outputs": [
    {
     "data": {
      "text/plain": [
       "(39886, 1)"
      ]
     },
     "execution_count": 85,
     "metadata": {},
     "output_type": "execute_result"
    }
   ],
   "source": [
    "# JPEG encoded image\n",
    "truth[2].shape"
   ]
  },
  {
   "cell_type": "code",
   "execution_count": 86,
   "metadata": {},
   "outputs": [
    {
     "data": {
      "text/plain": [
       "(14, 2)"
      ]
     },
     "execution_count": 86,
     "metadata": {},
     "output_type": "execute_result"
    },
    {
     "data": {
      "text/plain": [
       "array([[172, 523],\n",
       "       [165, 411],\n",
       "       [161, 310],\n",
       "       [217, 309],\n",
       "       [213, 405],\n",
       "       [212, 522],\n",
       "       [117, 312],\n",
       "       [117, 210],\n",
       "       [129, 121],\n",
       "       [239, 127],\n",
       "       [254, 201],\n",
       "       [212, 265],\n",
       "       [196, 106],\n",
       "       [203,  27]], dtype=uint16)"
      ]
     },
     "execution_count": 86,
     "metadata": {},
     "output_type": "execute_result"
    }
   ],
   "source": [
    "# pose\n",
    "truth[3][0,0][0].shape\n",
    "truth[3][0,0][0]"
   ]
  },
  {
   "cell_type": "code",
   "execution_count": 97,
   "metadata": {},
   "outputs": [
    {
     "data": {
      "text/plain": [
       "4"
      ]
     },
     "execution_count": 97,
     "metadata": {},
     "output_type": "execute_result"
    },
    {
     "data": {
      "text/plain": [
       "(1, 10656)"
      ]
     },
     "execution_count": 97,
     "metadata": {},
     "output_type": "execute_result"
    },
    {
     "data": {
      "text/plain": [
       "(323, 1)"
      ]
     },
     "execution_count": 97,
     "metadata": {},
     "output_type": "execute_result"
    },
    {
     "data": {
      "text/plain": [
       "(56, 1)"
      ]
     },
     "execution_count": 97,
     "metadata": {},
     "output_type": "execute_result"
    },
    {
     "data": {
      "text/plain": [
       "array([], shape=(0, 0), dtype=uint8)"
      ]
     },
     "execution_count": 97,
     "metadata": {},
     "output_type": "execute_result"
    }
   ],
   "source": [
    "# annotation\n",
    "len(truth[4][0,0])\n",
    "truth[4][0,0][0].shape\n",
    "truth[4][0,0][1].shape\n",
    "truth[4][0,0][2].shape\n",
    "truth[4][0,0][3]"
   ]
  },
  {
   "cell_type": "code",
   "execution_count": null,
   "metadata": {},
   "outputs": [],
   "source": []
  }
 ],
 "metadata": {
  "kernelspec": {
   "display_name": "Python 3",
   "language": "python",
   "name": "python3"
  },
  "language_info": {
   "codemirror_mode": {
    "name": "ipython",
    "version": 3
   },
   "file_extension": ".py",
   "mimetype": "text/x-python",
   "name": "python",
   "nbconvert_exporter": "python",
   "pygments_lexer": "ipython3",
   "version": "3.6.5"
  }
 },
 "nbformat": 4,
 "nbformat_minor": 2
}
